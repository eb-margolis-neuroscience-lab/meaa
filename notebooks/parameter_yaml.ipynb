{
 "cells": [
  {
   "cell_type": "code",
   "execution_count": 1,
   "id": "98a7fa73-3185-490c-b34d-c6b8d31655e5",
   "metadata": {},
   "outputs": [],
   "source": [
    "import meappy.parameter_yaml as py\n",
    "from meappy.parameter_yaml import USER, USER_PATHS\n",
    "from meappy.meappy_data import *"
   ]
  },
  {
   "cell_type": "markdown",
   "id": "6d02b73a-f5ef-4ac0-aa71-007a30fb5172",
   "metadata": {},
   "source": [
    "## TODO:\n",
    "- change the example output of this to the test data drive create in meappy_data.py\n",
    "\n",
    "- Check if this can write to the Box desktop drive directly. That could be useful for easy creation of yaml directory structure"
   ]
  },
  {
   "cell_type": "code",
   "execution_count": 2,
   "id": "6c131836-4189-4005-9719-14f26299b1dd",
   "metadata": {
    "tags": []
   },
   "outputs": [
    {
     "name": "stdout",
     "output_type": "stream",
     "text": [
      "set user to: meappy_data\n",
      "Parameter slice params written to: /Users/walter/Src/meap_output/experiment/VTA_EM1_Dose_Response/20211105_15h48m31s/slice_parameters.yaml\n",
      "Parameter slice params written to: /Users/walter/Src/meap_output/experiment/VTA_EM1_Dose_Response/20211109_15h09m07s/slice_parameters.yaml\n",
      "Parameter slice params written to: /Users/walter/Src/meap_output/experiment/VTA_EM1_Dose_Response/20211109_17h18m41s/slice_parameters.yaml\n",
      "Parameter slice params written to: /Users/walter/Src/meap_output/experiment/VTA_EM1_Dose_Response/20211110_15h00m50s/slice_parameters.yaml\n",
      "Parameter slice params written to: /Users/walter/Src/meap_output/experiment/VTA_EM1_Dose_Response/20211122_13h47m47s/slice_parameters.yaml\n",
      "Parameter slice params written to: /Users/walter/Src/meap_output/experiment/VTA_EM1_Dose_Response/20211130_17h27m13s/slice_parameters.yaml\n",
      "Parameter slice params written to: /Users/walter/Src/meap_output/experiment/VTA_EM1_Dose_Response/20211202_18h13m40s/slice_parameters.yaml\n",
      "Parameter slice params written to: /Users/walter/Src/meap_output/experiment/VTA_EM1_Dose_Response/20211202_14h49m06s/slice_parameters.yaml\n",
      "Parameter protocol written to: /Users/walter/Src/meap_output/experiment/VTA_EM1_Dose_Response/protocol_parameters.yaml\n"
     ]
    }
   ],
   "source": [
    "py.main()"
   ]
  },
  {
   "cell_type": "code",
   "execution_count": null,
   "id": "f1abcf9e-ebbe-42dc-8f76-1b6b3c599e2d",
   "metadata": {},
   "outputs": [],
   "source": []
  }
 ],
 "metadata": {
  "kernelspec": {
   "display_name": "Python 3 (ipykernel)",
   "language": "python",
   "name": "python3"
  },
  "language_info": {
   "codemirror_mode": {
    "name": "ipython",
    "version": 3
   },
   "file_extension": ".py",
   "mimetype": "text/x-python",
   "name": "python",
   "nbconvert_exporter": "python",
   "pygments_lexer": "ipython3",
   "version": "3.10.2"
  }
 },
 "nbformat": 4,
 "nbformat_minor": 5
}
