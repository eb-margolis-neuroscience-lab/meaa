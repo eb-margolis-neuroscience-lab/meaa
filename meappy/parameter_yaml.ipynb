{
 "cells": [
  {
   "cell_type": "code",
   "execution_count": 1,
   "id": "98a7fa73-3185-490c-b34d-c6b8d31655e5",
   "metadata": {},
   "outputs": [
    {
     "data": {
      "text/plain": [
       "<module 'parameter_yaml' from '/Users/walter/Src/meap/meappy/parameter_yaml.py'>"
      ]
     },
     "execution_count": 1,
     "metadata": {},
     "output_type": "execute_result"
    }
   ],
   "source": [
    "import parameter_yaml as py\n",
    "from parameter_yaml import USER, USER_PATHS\n",
    "\n",
    "from importlib import reload\n",
    "reload(py)"
   ]
  },
  {
   "cell_type": "code",
   "execution_count": 2,
   "id": "6c131836-4189-4005-9719-14f26299b1dd",
   "metadata": {},
   "outputs": [
    {
     "name": "stdout",
     "output_type": "stream",
     "text": [
      "/Users/walter/Src/meap_yaml_output/experiment/LHb\n"
     ]
    }
   ],
   "source": [
    "py.main()"
   ]
  },
  {
   "cell_type": "code",
   "execution_count": 3,
   "id": "573d4e7f-c489-4fcb-a2a3-7f50dd41a138",
   "metadata": {},
   "outputs": [
    {
     "data": {
      "text/plain": [
       "{'elayne': {'meap': 'C:\\\\Users\\\\fieldslab2\\\\Desktop\\\\Lab\\\\MatLab\\\\Python_Code\\\\meap',\n",
       "  'output': 'C:\\\\Users\\\\fieldslab2\\\\Desktop\\\\Lab\\\\MatLab\\\\Python_Code\\\\meap_yaml_output',\n",
       "  'exp_xlsx': 'C:\\\\Users\\\\fieldslab2\\\\Desktop\\\\Lab\\\\MED64_Exp\\\\MED64_ExperimentsForAnalysis.xls'},\n",
       " 'walter': {'meap': '/Users/walter/Src/meap',\n",
       "  'output': '/Users/walter/Src/meap_yaml_output',\n",
       "  'exp_xlsx': '/Users/walter/Src/meap/parameter_examples/MED64_ExperimentsForAnalysis.xls',\n",
       "  'slice_template': '/Users/walter/Src/meap/parameter_examples/slice_parameters.yaml',\n",
       "  'protocol_template': '/Users/walter/Src/meap/parameter_examples/protocol_parameters.yaml',\n",
       "  'protocol_output': '/Users/walter/Src/meap_yaml_output/experiment/LHb'}}"
      ]
     },
     "execution_count": 3,
     "metadata": {},
     "output_type": "execute_result"
    }
   ],
   "source": [
    "USER_PATHS"
   ]
  },
  {
   "cell_type": "code",
   "execution_count": 4,
   "id": "c5888f21-3dc9-413b-91d0-70eee358fac9",
   "metadata": {},
   "outputs": [
    {
     "data": {
      "text/plain": [
       "'walter'"
      ]
     },
     "execution_count": 4,
     "metadata": {},
     "output_type": "execute_result"
    }
   ],
   "source": [
    "USER"
   ]
  },
  {
   "cell_type": "code",
   "execution_count": 5,
   "id": "e656bb84-88c8-4b12-8204-9d2e380b8756",
   "metadata": {},
   "outputs": [
    {
     "name": "stdout",
     "output_type": "stream",
     "text": [
      "/Users/walter/Src/meap_yaml_output/experiment/LHb\n"
     ]
    }
   ],
   "source": [
    "print(USER_PATHS[USER]['protocol_output'])\n",
    "\n"
   ]
  },
  {
   "cell_type": "code",
   "execution_count": null,
   "id": "de850a2c-b57b-4ad2-8915-4005947b0920",
   "metadata": {},
   "outputs": [],
   "source": []
  }
 ],
 "metadata": {
  "kernelspec": {
   "display_name": "Python 3 (ipykernel)",
   "language": "python",
   "name": "python3"
  },
  "language_info": {
   "codemirror_mode": {
    "name": "ipython",
    "version": 3
   },
   "file_extension": ".py",
   "mimetype": "text/x-python",
   "name": "python",
   "nbconvert_exporter": "python",
   "pygments_lexer": "ipython3",
   "version": "3.10.2"
  }
 },
 "nbformat": 4,
 "nbformat_minor": 5
}
