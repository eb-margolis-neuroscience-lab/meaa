{
 "cells": [
  {
   "cell_type": "markdown",
   "id": "9c5c87d9-397c-4b53-8bcc-15536e1e7155",
   "metadata": {
    "tags": []
   },
   "source": [
    "## PyYaml  \n",
    "Testing functionality of PyYaml to create YAML config files with filenames and experiment protocols for organizing experiments using Med64 data."
   ]
  },
  {
   "cell_type": "markdown",
   "id": "97b61ed6-9c93-4872-810d-177f633f888c",
   "metadata": {},
   "source": [
    "Alpha fold notebood have inputs that you can use\n",
    "ipy widgets - Elyssa has used these\n",
    "part of documentation will be Elaynes spreadsheet template as how to build workflow for data collection\n"
   ]
  },
  {
   "cell_type": "code",
   "execution_count": 35,
   "id": "2c96f82a-cf59-4039-8ede-c83a58967698",
   "metadata": {
    "tags": []
   },
   "outputs": [],
   "source": [
    "import yaml\n",
    "import os\n",
    "import ipywidgets as widgets\n",
    "from IPython.display import display\n",
    "from ipywidgets import Layout\n",
    "\n",
    "ext_text = Layout(width='800px')"
   ]
  },
  {
   "cell_type": "markdown",
   "id": "67014884-3b6e-4d4b-baf7-d5ba5f4a4d32",
   "metadata": {
    "tags": []
   },
   "source": [
    "## File Paths"
   ]
  },
  {
   "cell_type": "code",
   "execution_count": 11,
   "id": "67ffa52b-25a3-4223-860d-88dc4c56a49a",
   "metadata": {},
   "outputs": [
    {
     "data": {
      "application/vnd.jupyter.widget-view+json": {
       "model_id": "8ddfe57a41d84347bab879e042077c3f",
       "version_major": 2,
       "version_minor": 0
      },
      "text/plain": [
       "Text(value='Hello World!')"
      ]
     },
     "metadata": {},
     "output_type": "display_data"
    }
   ],
   "source": [
    "txt = widgets.Text(value='Hello World!', disabled=False)\n",
    "display(txt)"
   ]
  },
  {
   "cell_type": "code",
   "execution_count": 17,
   "id": "b190a206-1ec5-429c-bf37-ce68a04e5ab5",
   "metadata": {
    "tags": []
   },
   "outputs": [
    {
     "data": {
      "text/plain": [
       "'Sundia'"
      ]
     },
     "metadata": {},
     "output_type": "display_data"
    }
   ],
   "source": [
    "display(txt.value)"
   ]
  },
  {
   "cell_type": "code",
   "execution_count": 2,
   "id": "7ce9a6fe-c72e-4b58-bc6f-db3639d800cc",
   "metadata": {},
   "outputs": [
    {
     "data": {
      "text/plain": [
       "'/Users/walter/Src/med64-analysis'"
      ]
     },
     "execution_count": 2,
     "metadata": {},
     "output_type": "execute_result"
    }
   ],
   "source": [
    "os.getcwd()"
   ]
  },
  {
   "cell_type": "code",
   "execution_count": 36,
   "id": "d621adb2-40ec-4be7-ae6b-b5687d43174d",
   "metadata": {},
   "outputs": [
    {
     "data": {
      "application/vnd.jupyter.widget-view+json": {
       "model_id": "7eb568b03774434b921158c119d74cdc",
       "version_major": 2,
       "version_minor": 0
      },
      "text/plain": [
       "Text(value='/Users/walter/Src/med64-analysis_local_config/parameter_examples', layout=Layout(width='800px'))"
      ]
     },
     "metadata": {},
     "output_type": "display_data"
    }
   ],
   "source": [
    "# change to template_dir_path?\n",
    "base_dir_path = widgets.Text(value='/Users/walter/Src/med64-analysis_local_config/parameter_examples', \n",
    "                             disabled=False, layout=ext_text) #@param {type:\"string\"}\n",
    "display(base_dir_path)\n",
    "\n",
    "#'/Users/walter/Src/med64-analysis_local_config/parameter_examples'  \n",
    "#@markdown  - Use `:` Add the full absolute path to your parameters template files"
   ]
  },
  {
   "cell_type": "code",
   "execution_count": 39,
   "id": "07a7eb58-f6b9-4a82-a1bb-a2a176f944b5",
   "metadata": {},
   "outputs": [],
   "source": [
    "protocol_template_path_str = '/Users/walter/Src/med64-analysis_local_config/parameter_examples/protocol_parameters.yaml'\n",
    "protocol_dump_path_str = '/Users/walter/Src/med64-analysis_local_config/parameter_examples/protocol_parameters_dump.yaml'\n",
    "\n",
    "## WINDcOWS\n",
    "# protocol_template_path = 'C:\\Users\\fieldslab2\\Desktop\\Lab\\MatLab\\Python_Code'\n",
    "\n",
    "protocol_template_path = widgets.Text(value=protocol_template_path_str, disabled=False, layout=Layout(width='800px')) #@param {type:\"string\"}\n",
    "protocol_dump_path = widgets.Text(value=protocol_dump_path_str, disabled=False, layout=ext_text) #@param {type:\"string\"}"
   ]
  },
  {
   "cell_type": "code",
   "execution_count": 40,
   "id": "39f001a3-6f42-4d84-a457-a77edcd181b6",
   "metadata": {
    "tags": []
   },
   "outputs": [
    {
     "data": {
      "application/vnd.jupyter.widget-view+json": {
       "model_id": "fbfd3c17c6824a1f8315e1ee717156ee",
       "version_major": 2,
       "version_minor": 0
      },
      "text/plain": [
       "Text(value='/Users/walter/Src/med64-analysis_local_config/parameter_examples/protocol_parameters.yaml', layout…"
      ]
     },
     "metadata": {},
     "output_type": "display_data"
    }
   ],
   "source": [
    "display(protocol_template_path)"
   ]
  },
  {
   "cell_type": "code",
   "execution_count": 6,
   "id": "e0b52f73-9e4f-4f8b-a2a0-1d3ab81e006a",
   "metadata": {},
   "outputs": [],
   "source": [
    "slice_template_path = '../med64-analysis_local_config/parameter_examples/slice_parameters.yaml'\n",
    "slice_dump_path = '../med64-analysis_local_config/parameter_examples/protocol_parameters_dump.yaml'"
   ]
  },
  {
   "cell_type": "markdown",
   "id": "71d6479f-ff4e-4cb7-8363-03b9fe666051",
   "metadata": {
    "tags": []
   },
   "source": [
    "#### Windows : make folder\n",
    "```\n",
    "file = [\"a.txt\",\"b.txt\"]\n",
    "remotePath = \"SFTP/SERVER/PATH\"\n",
    "os.mkdir(\"./Jars\")\n",
    "os.chdir(\"./Jars\")\n",
    "getCurrDir = os.getcwd()\n",
    "localPath = os.path.join(getCurrDir, file)\n",
    "```"
   ]
  },
  {
   "cell_type": "markdown",
   "id": "28299975-b22b-47af-8c5c-30c0f00f8942",
   "metadata": {},
   "source": [
    "## Excel Paste"
   ]
  },
  {
   "cell_type": "code",
   "execution_count": 7,
   "id": "6a7d16ff-b7d0-4e6d-9776-bcf781aff941",
   "metadata": {},
   "outputs": [],
   "source": [
    "# paste in row from excel spreadsheet here, surrounded by quotes\n",
    "xl_row = '20220211\tEVD\tEVD\tVTA\t\tDose/Response\tEM2 (1pM,10pM,100pM,1nM,10nM,100nM); CTAP (1uM)\tZadina\t15h24m23s\tY\tChs:28,33,34,35,36,37,41,42,43,47,46,50,51,54. Maybe:27,26,25,44,52,45\tY\tY\tGabazine in all solutions. Started, ran until 1pM EM2, stopped. Washed out and restarted form baseline (computer was lacking memory)'"
   ]
  },
  {
   "cell_type": "markdown",
   "id": "6550fbd2-2ac5-4592-9fcc-77520327fdf2",
   "metadata": {},
   "source": [
    "--- excel interpreter code ---"
   ]
  },
  {
   "cell_type": "code",
   "execution_count": 8,
   "id": "b3014e80-e8dd-44cc-9040-266a158e6bb8",
   "metadata": {},
   "outputs": [],
   "source": [
    "xl_cols = ['date', 'cut_by', 'run_by', 'region', 'project', 'experiment_type', 'drugs_dose_used', 'vendor_batch','slice_time', 'is_photo_saved', 'notes_issues', 'is_exported', 'is_sorted', 'notes']"
   ]
  },
  {
   "cell_type": "code",
   "execution_count": 9,
   "id": "2034ea2c-d6f1-4b15-953d-f7af558d5ab8",
   "metadata": {},
   "outputs": [],
   "source": [
    "xl = dict(zip(xl_cols, xl_row.split(\"\\t\")))"
   ]
  },
  {
   "cell_type": "code",
   "execution_count": 10,
   "id": "ff27d396-ef41-4439-bcf2-a725121d117f",
   "metadata": {},
   "outputs": [
    {
     "data": {
      "text/plain": [
       "[('date', '20220211'),\n",
       " ('cut_by', 'EVD'),\n",
       " ('run_by', 'EVD'),\n",
       " ('region', 'VTA'),\n",
       " ('project', ''),\n",
       " ('experiment_type', 'Dose/Response'),\n",
       " ('drugs_dose_used', 'EM2 (1pM,10pM,100pM,1nM,10nM,100nM); CTAP (1uM)'),\n",
       " ('vendor_batch', 'Zadina'),\n",
       " ('slice_time', '15h24m23s'),\n",
       " ('is_photo_saved', 'Y'),\n",
       " ('notes_issues',\n",
       "  'Chs:28,33,34,35,36,37,41,42,43,47,46,50,51,54. Maybe:27,26,25,44,52,45'),\n",
       " ('is_exported', 'Y'),\n",
       " ('is_sorted', 'Y'),\n",
       " ('notes',\n",
       "  'Gabazine in all solutions. Started, ran until 1pM EM2, stopped. Washed out and restarted form baseline (computer was lacking memory)')]"
      ]
     },
     "execution_count": 10,
     "metadata": {},
     "output_type": "execute_result"
    }
   ],
   "source": [
    "list(xl.items())"
   ]
  },
  {
   "cell_type": "markdown",
   "id": "9d5de860-63e9-453e-a8e9-1b1ec2d7161c",
   "metadata": {},
   "source": [
    "## Slice Parameters YAML"
   ]
  },
  {
   "cell_type": "code",
   "execution_count": 11,
   "id": "ccca3901-bcfa-4980-8e5f-becee9014fa6",
   "metadata": {
    "tags": []
   },
   "outputs": [],
   "source": [
    "with open(slice_template_path, 'r') as file:\n",
    "    slice_params = yaml.safe_load(file)"
   ]
  },
  {
   "cell_type": "code",
   "execution_count": 12,
   "id": "5f890d65-fffb-4554-a2c8-a9e9a8fd188e",
   "metadata": {},
   "outputs": [
    {
     "data": {
      "text/plain": [
       "{'paths': {'base': '/Users/walter/Data/med64/experiment/',\n",
       "  'protocol': 'HB_139_DAMGO/',\n",
       "  'slice': '825_12h24m37s/',\n",
       "  'unit': '20200825_12h24m37s_units_ts.mat',\n",
       "  'treatment': '20200825_12h24m37s_treatments.csv',\n",
       "  'photo': '20200825_12h24m37s.jpg'},\n",
       " 'slice_metadata': {'type': 'Dose/Response',\n",
       "  'protocol': 'HB_139_DAMGO',\n",
       "  'date': datetime.date(2020, 8, 25),\n",
       "  'animal_id': '...',\n",
       "  'region': 'VTA',\n",
       "  'recording_site': 'middle',\n",
       "  'notes': 'Use this for notes on specific slice run. Because this description is in quotes, YAML can read it as a single long block of wrapped text, even though it is multiple lines in YAML file.\\nAdding an extra blank line inside the same block text quote will be read by YAML as a new line.\\nAttempting to add lists, or other complex grammatical structures into this kind of text block will sometimes be less readable than creating an actual structured list as data in YAML'},\n",
       " 'cut_by': 'Andrea Sanders',\n",
       " 'run_by': 'Andrea Sanders'}"
      ]
     },
     "execution_count": 12,
     "metadata": {},
     "output_type": "execute_result"
    }
   ],
   "source": [
    "slice_params"
   ]
  },
  {
   "cell_type": "code",
   "execution_count": 13,
   "id": "cd83832b-7aae-439c-b512-478a1a422283",
   "metadata": {},
   "outputs": [],
   "source": [
    "slice_params['slice_metadata']['notes'] = 'Issues: ' + xl['notes_issues'] + '\\nMisc: ' + xl['notes']"
   ]
  },
  {
   "cell_type": "code",
   "execution_count": 14,
   "id": "52aa2596-a62c-44dc-ad09-91140af534a0",
   "metadata": {},
   "outputs": [],
   "source": [
    "slice_params['slice_metadata']['region'] = xl['region']"
   ]
  },
  {
   "cell_type": "code",
   "execution_count": 15,
   "id": "4e4753b3-0c33-4b06-95d0-df48eba76f59",
   "metadata": {},
   "outputs": [
    {
     "name": "stdout",
     "output_type": "stream",
     "text": [
      "slice ID: 20220211_15h24m23s\n"
     ]
    }
   ],
   "source": [
    "date = xl['date']\n",
    "time = xl['slice_time']\n",
    "\n",
    "# date = slice_params['slice_metadata']['date']\n",
    "# time = slice_params['slice_metadata']['slice_time']\n",
    "\n",
    "slice_id = date + '_' + time\n",
    "print(\"slice ID: \" + slice_id)\n",
    "\n",
    "unit_timestamps_filename = slice_id + '_units_ts.mat'\n",
    "treatments_filename = slice_id + '_treatments.csv'\n",
    "electrode_filename = slice_id + '_unit_electrode.csv'\n",
    "image_filename = slice_id + '.jpg'"
   ]
  },
  {
   "cell_type": "code",
   "execution_count": 16,
   "id": "f788c2cb-8414-413c-ab1d-ef00c6cc9b98",
   "metadata": {},
   "outputs": [
    {
     "name": "stdout",
     "output_type": "stream",
     "text": [
      "paths:\n",
      "    base: /Users/walter/Data/med64/experiment/\n",
      "    protocol: HB_139_DAMGO/\n",
      "    slice: 825_12h24m37s/\n",
      "    unit: 20200825_12h24m37s_units_ts.mat\n",
      "    treatment: 20200825_12h24m37s_treatments.csv\n",
      "    photo: 20200825_12h24m37s.jpg\n",
      "slice_metadata:\n",
      "    type: Dose/Response\n",
      "    protocol: HB_139_DAMGO\n",
      "    date: 2020-08-25\n",
      "    animal_id: '...'\n",
      "    region: VTA\n",
      "    recording_site: middle\n",
      "    notes: 'Issues: Chs:28,33,34,35,36,37,41,42,43,47,46,50,51,54. Maybe:27,26,25,44,52,45\n",
      "\n",
      "        Misc: Gabazine in all solutions. Started, ran until 1pM EM2, stopped. Washed\n",
      "        out and restarted form baseline (computer was lacking memory)'\n",
      "cut_by: Andrea Sanders\n",
      "run_by: Andrea Sanders\n",
      "\n"
     ]
    }
   ],
   "source": [
    "slice_params_dump = yaml.dump(slice_params, sort_keys=False, indent=4, default_flow_style=False)\n",
    "print(slice_params_dump)"
   ]
  },
  {
   "cell_type": "code",
   "execution_count": 17,
   "id": "9a6a838f-e11a-4409-9bd2-6d9d5572ccfd",
   "metadata": {},
   "outputs": [
    {
     "name": "stdout",
     "output_type": "stream",
     "text": [
      "/Users/walter/Src/med64-analysis_local_config/parameter_examples\n",
      "/Users/walter/Src/med64-analysis_local_config/parameter_examples/20220211_15h24m23s/slice_parameters.yaml\n"
     ]
    }
   ],
   "source": [
    "slice_dir_name = './' + slice_id\n",
    "os.chdir(base_dir_path)\n",
    "print(os.getcwd())\n",
    "try:\n",
    "    os.mkdir(slice_dir_name)\n",
    "except:\n",
    "    pass\n",
    "os.chdir(slice_dir_name)\n",
    "slice_dir_path = os.getcwd()\n",
    "slice_dump_path = os.path.join(slice_dir_path, 'slice_parameters.yaml')\n",
    "print(slice_dump_path)"
   ]
  },
  {
   "cell_type": "code",
   "execution_count": 27,
   "id": "62a09ea5-725d-4479-9a3e-02055839f2a8",
   "metadata": {},
   "outputs": [],
   "source": [
    "with open(slice_dump_path, 'w', encoding = \"utf-8\") as yaml_file:\n",
    "    yaml_file.write(slice_params_dump)"
   ]
  },
  {
   "cell_type": "code",
   "execution_count": null,
   "id": "fa3bb652-4356-4baa-b4ef-bb8fec543688",
   "metadata": {},
   "outputs": [],
   "source": []
  },
  {
   "cell_type": "markdown",
   "id": "70d48611-004e-481f-939f-88ea963c2f3e",
   "metadata": {
    "tags": []
   },
   "source": [
    "## Protocol Parameters YAML"
   ]
  },
  {
   "cell_type": "code",
   "execution_count": 19,
   "id": "0bcb4a9d-660f-4c41-9722-7e9ddf72696f",
   "metadata": {
    "tags": []
   },
   "outputs": [],
   "source": [
    "with open(protocol_template_path, 'r') as file:\n",
    "    protocol_params = yaml.safe_load(file)"
   ]
  },
  {
   "cell_type": "code",
   "execution_count": 20,
   "id": "4925a05c-9df5-4e40-9432-774077f81412",
   "metadata": {},
   "outputs": [
    {
     "data": {
      "text/plain": [
       "{'protocol_metadata': {'researchers': 'Elayne Vieira Dias, Elyssa Margolis',\n",
       "  'cut_by': 'Elayne Vieira Dias',\n",
       "  'run_by': 'Elayne Vieira Dias',\n",
       "  'description': 'Apply DAMGO and other treatments. Because this description is in quotes, YAML can read it as a single long block of wrapped text, even though it is multiple lines in YAML file.\\nAdding an extra blank line inside the same block text quote will be read by YAML as a new line.\\nAttempting to add lists, or other complex grammatical structures into this kind of text block will sometimes be less readable than creating an actual structured list as data in YAML'},\n",
       " 'spike_sorting': {'method': 'matlab ez-spike'},\n",
       " 'data_cleaning': {'activity_threshold': 0.5},\n",
       " 'models': {'firing_rate_model': {'model_type': '...'},\n",
       "  'dose_response_model': {'model_type': 'sigmoid',\n",
       "   'priors': '...',\n",
       "   'inits': '...'}}}"
      ]
     },
     "execution_count": 20,
     "metadata": {},
     "output_type": "execute_result"
    }
   ],
   "source": [
    "protocol_params"
   ]
  },
  {
   "cell_type": "code",
   "execution_count": 21,
   "id": "d4b56f15-4098-4311-9316-ea144a243df5",
   "metadata": {},
   "outputs": [],
   "source": [
    "protocol_params['protocol_metadata']['researchers'] = 'Elayne Vieira Dias, Elyssa Margolis'"
   ]
  },
  {
   "cell_type": "code",
   "execution_count": 22,
   "id": "c4c24276-fea7-4ea3-b700-84a8a117d09b",
   "metadata": {},
   "outputs": [],
   "source": [
    "protocol_params['protocol_metadata']['cut_by'] = xl['cut_by']"
   ]
  },
  {
   "cell_type": "code",
   "execution_count": 23,
   "id": "7167d60f-20ea-4a17-a0c1-aac4791f47b9",
   "metadata": {},
   "outputs": [],
   "source": [
    "protocol_params['protocol_metadata']['run_by'] = xl['run_by']"
   ]
  },
  {
   "cell_type": "code",
   "execution_count": 24,
   "id": "efb92b48-1de6-4ee1-a60d-801182c17f98",
   "metadata": {},
   "outputs": [
    {
     "name": "stdout",
     "output_type": "stream",
     "text": [
      "protocol_metadata:\n",
      "    researchers: Elayne Vieira Dias, Elyssa Margolis\n",
      "    cut_by: EVD\n",
      "    run_by: EVD\n",
      "    description: 'Apply DAMGO and other treatments. Because this description is in\n",
      "        quotes, YAML can read it as a single long block of wrapped text, even though\n",
      "        it is multiple lines in YAML file.\n",
      "\n",
      "        Adding an extra blank line inside the same block text quote will be read by\n",
      "        YAML as a new line.\n",
      "\n",
      "        Attempting to add lists, or other complex grammatical structures into this\n",
      "        kind of text block will sometimes be less readable than creating an actual\n",
      "        structured list as data in YAML'\n",
      "spike_sorting:\n",
      "    method: matlab ez-spike\n",
      "data_cleaning:\n",
      "    activity_threshold: 0.5\n",
      "models:\n",
      "    firing_rate_model:\n",
      "        model_type: '...'\n",
      "    dose_response_model:\n",
      "        model_type: sigmoid\n",
      "        priors: '...'\n",
      "        inits: '...'\n",
      "\n"
     ]
    }
   ],
   "source": [
    "protocol_params_dump = yaml.dump(protocol_params, sort_keys=False, indent=4, default_flow_style=False)\n",
    "print(protocol_params_dump)"
   ]
  },
  {
   "cell_type": "code",
   "execution_count": 28,
   "id": "6e2ba9f7-88e8-45fa-b86b-c6c2469e15d5",
   "metadata": {},
   "outputs": [],
   "source": [
    "with open(protocol_dump_path, 'w', encoding = \"utf-8\") as yaml_file:\n",
    "    yaml_file.write(protocol_params_dump)"
   ]
  },
  {
   "cell_type": "code",
   "execution_count": null,
   "id": "c8860eae-d678-4894-bfd8-9281959f1ffb",
   "metadata": {},
   "outputs": [],
   "source": []
  }
 ],
 "metadata": {
  "kernelspec": {
   "display_name": "Python 3 (ipykernel)",
   "language": "python",
   "name": "python3"
  },
  "language_info": {
   "codemirror_mode": {
    "name": "ipython",
    "version": 3
   },
   "file_extension": ".py",
   "mimetype": "text/x-python",
   "name": "python",
   "nbconvert_exporter": "python",
   "pygments_lexer": "ipython3",
   "version": "3.10.2"
  }
 },
 "nbformat": 4,
 "nbformat_minor": 5
}
