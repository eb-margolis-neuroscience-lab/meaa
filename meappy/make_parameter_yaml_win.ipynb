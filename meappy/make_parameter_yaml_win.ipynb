{
 "cells": [
  {
   "cell_type": "markdown",
   "id": "9c5c87d9-397c-4b53-8bcc-15536e1e7155",
   "metadata": {
    "tags": []
   },
   "source": [
    "## PyYaml  \n",
    "Testing functionality of PyYaml to create YAML config files with filenames and experiment protocols for organizing experiments using Med64 data."
   ]
  },
  {
   "cell_type": "markdown",
   "id": "97b61ed6-9c93-4872-810d-177f633f888c",
   "metadata": {},
   "source": [
    "Alpha fold notebood have inputs that you can use\n",
    "ipy widgets - Elyssa has used these\n",
    "part of documentation will be Elaynes spreadsheet template as how to build workflow for data collection\n"
   ]
  },
  {
   "cell_type": "code",
   "execution_count": 2,
   "id": "2c96f82a-cf59-4039-8ede-c83a58967698",
   "metadata": {
    "tags": []
   },
   "outputs": [],
   "source": [
    "import yaml\n",
    "import os\n",
    "import ipywidgets as widgets\n",
    "from IPython.display import display\n",
    "from ipywidgets import Layout\n",
    "\n",
    "## README mod:\n",
    "# conda install -c conda-forge ipywidgets\n",
    "\n",
    "ext_text = Layout(width='800px')\n",
    "ext_xlrow = Layout(width='1200px',  height='40px')\n",
    "\n",
    "# https://ipywidgets.readthedocs.io/en/latest/examples/Widget%20Styling.html\n",
    "# https://stackoverflow.com/questions/54997155/how-to-display-the-full-text-in-the-button-ipywidget"
   ]
  },
  {
   "cell_type": "markdown",
   "id": "67014884-3b6e-4d4b-baf7-d5ba5f4a4d32",
   "metadata": {
    "tags": []
   },
   "source": [
    "## File Paths"
   ]
  },
  {
   "cell_type": "code",
   "execution_count": 3,
   "id": "7ce9a6fe-c72e-4b58-bc6f-db3639d800cc",
   "metadata": {
    "tags": []
   },
   "outputs": [
    {
     "data": {
      "text/plain": [
       "'C:\\\\Users\\\\fieldslab2\\\\Desktop\\\\Lab\\\\Matlab\\\\Python_Code\\\\meap\\\\meappy'"
      ]
     },
     "execution_count": 3,
     "metadata": {},
     "output_type": "execute_result"
    }
   ],
   "source": [
    "os.getcwd()"
   ]
  },
  {
   "cell_type": "code",
   "execution_count": 4,
   "id": "d621adb2-40ec-4be7-ae6b-b5687d43174d",
   "metadata": {
    "tags": []
   },
   "outputs": [
    {
     "data": {
      "application/vnd.jupyter.widget-view+json": {
       "model_id": "a4013927c05c483a97f5d8ecf1fd02ed",
       "version_major": 2,
       "version_minor": 0
      },
      "text/plain": [
       "Text(value='C:\\\\Users\\\\fieldslab2\\\\Desktop\\\\Lab\\\\MatLab\\\\Python_Code\\\\meap\\\\parameter_examples', layout=Layout…"
      ]
     },
     "metadata": {},
     "output_type": "display_data"
    }
   ],
   "source": [
    "# Add the full absolute path to your parameters template files\n",
    "base_dir_path_str = r'C:\\Users\\fieldslab2\\Desktop\\Lab\\MatLab\\Python_Code'\n",
    "base_dir_path = widgets.Text(value=base_dir_path_str, \n",
    "                             disabled=False, layout=ext_text) #@param {type:\"string\"}\n",
    "\n",
    "template_dir_path_str = os.path.join(base_dir_path_str, r'meap\\parameter_examples')\n",
    "template_dir_path = widgets.Text(value=template_dir_path_str, \n",
    "                             disabled=False, layout=ext_text)\n",
    "\n",
    "display(template_dir_path)"
   ]
  },
  {
   "cell_type": "code",
   "execution_count": 5,
   "id": "e0b52f73-9e4f-4f8b-a2a0-1d3ab81e006a",
   "metadata": {
    "tags": []
   },
   "outputs": [],
   "source": [
    "slice_template_path = os.path.join(template_dir_path_str, r'slice_parameters.yaml')\n",
    "slice_dump_path = os.path.join(template_dir_path_str, r'slice_parameters_dump.yaml')"
   ]
  },
  {
   "cell_type": "code",
   "execution_count": 6,
   "id": "07a7eb58-f6b9-4a82-a1bb-a2a176f944b5",
   "metadata": {
    "tags": []
   },
   "outputs": [],
   "source": [
    "protocol_template_path = os.path.join(template_dir_path_str, r'protocol_parameters.yaml')\n",
    "protocol_dump_path = os.path.join(template_dir_path_str, r'protocol_parameters_dump.yaml')\n",
    "\n",
    "# protocol_template_path = widgets.Text(value=protocol_template_path_str, disabled=False, layout=Layout(width='800px')) #@param {type:\"string\"}\n",
    "# protocol_dump_path = widgets.Text(value=protocol_dump_path_str, disabled=False, layout=ext_text) #@param {type:\"string\"}"
   ]
  },
  {
   "cell_type": "code",
   "execution_count": 7,
   "id": "39f001a3-6f42-4d84-a457-a77edcd181b6",
   "metadata": {
    "tags": []
   },
   "outputs": [
    {
     "data": {
      "text/plain": [
       "'C:\\\\Users\\\\fieldslab2\\\\Desktop\\\\Lab\\\\MatLab\\\\Python_Code\\\\meap\\\\parameter_examples\\\\protocol_parameters.yaml'"
      ]
     },
     "metadata": {},
     "output_type": "display_data"
    }
   ],
   "source": [
    "display(protocol_template_path)"
   ]
  },
  {
   "cell_type": "markdown",
   "id": "28299975-b22b-47af-8c5c-30c0f00f8942",
   "metadata": {},
   "source": [
    "## Excel Paste"
   ]
  },
  {
   "cell_type": "code",
   "execution_count": 8,
   "id": "6a7d16ff-b7d0-4e6d-9776-bcf781aff941",
   "metadata": {},
   "outputs": [
    {
     "data": {
      "application/vnd.jupyter.widget-view+json": {
       "model_id": "a1bfc295a4844ff8b63c71f533377c13",
       "version_major": 2,
       "version_minor": 0
      },
      "text/plain": [
       "Text(value='20220211\\tEVD\\tEVD\\tVTA\\t\\tDose/Response\\tEM2 (1pM,10pM,100pM,1nM,10nM,100nM); CTAP (1uM)\\tZadina\\…"
      ]
     },
     "metadata": {},
     "output_type": "display_data"
    }
   ],
   "source": [
    "# paste in row from excel spreadsheet here, surrounded by quotes\n",
    "example_excel_row = '20220211\tEVD\tEVD\tVTA\t\tDose/Response\tEM2 (1pM,10pM,100pM,1nM,10nM,100nM); CTAP (1uM)\tZadina\t15h24m23s\tY\tChs:28,33,34,35,36,37,41,42,43,47,46,50,51,54. Maybe:27,26,25,44,52,45\tY\tY\tGabazine in all solutions. Started, ran until 1pM EM2, stopped. Washed out and restarted form baseline (computer was lacking memory)'\n",
    "xl_row = widgets.Text(value=example_excel_row, disabled=False, layout=ext_xlrow, display='flex',\n",
    "    flex_flow='column', flex_wrap='wrap')\n",
    "display(xl_row)\n"
   ]
  },
  {
   "cell_type": "code",
   "execution_count": 10,
   "id": "d201ff25-dd7f-4afc-8924-6fd4c05bd56c",
   "metadata": {},
   "outputs": [
    {
     "data": {
      "text/plain": [
       "['20220413',\n",
       " 'EVD',\n",
       " 'EVD/IC',\n",
       " 'VTA',\n",
       " '',\n",
       " 'Dose/Response',\n",
       " 'ZH583 (1pM,10pM,100pM,1nM,10nM,100nM); CTAP(1uM)',\n",
       " 'Zadina',\n",
       " '16h31m26s',\n",
       " 'Y',\n",
       " 'Chs:10,19,20,22,28,30,31,37,38,39. Maybe:12,13,21,24,25,40,48,55',\n",
       " 'Y',\n",
       " '',\n",
       " 'Gabazine in all solutions']"
      ]
     },
     "metadata": {},
     "output_type": "display_data"
    }
   ],
   "source": [
    "display(xl_row.value.split('\\t'))"
   ]
  },
  {
   "cell_type": "markdown",
   "id": "6550fbd2-2ac5-4592-9fcc-77520327fdf2",
   "metadata": {},
   "source": [
    "--- excel interpreter code ---"
   ]
  },
  {
   "cell_type": "code",
   "execution_count": 11,
   "id": "b3014e80-e8dd-44cc-9040-266a158e6bb8",
   "metadata": {},
   "outputs": [],
   "source": [
    "xl_cols = ['date', 'cut_by', 'run_by', 'region', 'project', 'experiment_type', 'drugs_dose_used', 'vendor_batch','slice_time', 'is_photo_saved', 'notes_issues', 'is_exported', 'is_sorted', 'notes']"
   ]
  },
  {
   "cell_type": "code",
   "execution_count": 12,
   "id": "2034ea2c-d6f1-4b15-953d-f7af558d5ab8",
   "metadata": {},
   "outputs": [],
   "source": [
    "xl = dict(zip(xl_cols, xl_row.value.split(\"\\t\")))"
   ]
  },
  {
   "cell_type": "code",
   "execution_count": 13,
   "id": "ff27d396-ef41-4439-bcf2-a725121d117f",
   "metadata": {},
   "outputs": [
    {
     "data": {
      "text/plain": [
       "[('date', '20220413'),\n",
       " ('cut_by', 'EVD'),\n",
       " ('run_by', 'EVD/IC'),\n",
       " ('region', 'VTA'),\n",
       " ('project', ''),\n",
       " ('experiment_type', 'Dose/Response'),\n",
       " ('drugs_dose_used', 'ZH583 (1pM,10pM,100pM,1nM,10nM,100nM); CTAP(1uM)'),\n",
       " ('vendor_batch', 'Zadina'),\n",
       " ('slice_time', '16h31m26s'),\n",
       " ('is_photo_saved', 'Y'),\n",
       " ('notes_issues',\n",
       "  'Chs:10,19,20,22,28,30,31,37,38,39. Maybe:12,13,21,24,25,40,48,55'),\n",
       " ('is_exported', 'Y'),\n",
       " ('is_sorted', ''),\n",
       " ('notes', 'Gabazine in all solutions')]"
      ]
     },
     "execution_count": 13,
     "metadata": {},
     "output_type": "execute_result"
    }
   ],
   "source": [
    "list(xl.items())"
   ]
  },
  {
   "cell_type": "markdown",
   "id": "9d5de860-63e9-453e-a8e9-1b1ec2d7161c",
   "metadata": {},
   "source": [
    "## Slice Parameters YAML"
   ]
  },
  {
   "cell_type": "code",
   "execution_count": 14,
   "id": "ccca3901-bcfa-4980-8e5f-becee9014fa6",
   "metadata": {
    "tags": []
   },
   "outputs": [],
   "source": [
    "with open(slice_template_path, 'r') as file:\n",
    "    slice_params = yaml.safe_load(file)"
   ]
  },
  {
   "cell_type": "code",
   "execution_count": 15,
   "id": "5f890d65-fffb-4554-a2c8-a9e9a8fd188e",
   "metadata": {},
   "outputs": [
    {
     "data": {
      "text/plain": [
       "{'paths': {'base': '/Users/walter/Data/med64/experiment/',\n",
       "  'protocol': 'HB_139_DAMGO/',\n",
       "  'slice': '825_12h24m37s/',\n",
       "  'unit': '20200825_12h24m37s_units_ts.mat',\n",
       "  'treatment': '20200825_12h24m37s_treatments.csv',\n",
       "  'photo': '20200825_12h24m37s.jpg'},\n",
       " 'slice_metadata': {'type': 'Dose/Response',\n",
       "  'protocol': 'HB_139_DAMGO',\n",
       "  'date': datetime.date(2020, 8, 25),\n",
       "  'animal_id': '...',\n",
       "  'region': 'VTA',\n",
       "  'recording_site': 'middle',\n",
       "  'notes': 'Use this for notes on specific slice run. Because this description is in quotes, YAML can read it as a single long block of wrapped text, even though it is multiple lines in YAML file.\\nAdding an extra blank line inside the same block text quote will be read by YAML as a new line.\\nAttempting to add lists, or other complex grammatical structures into this kind of text block will sometimes be less readable than creating an actual structured list as data in YAML'},\n",
       " 'cut_by': 'Andrea Sanders',\n",
       " 'run_by': 'Andrea Sanders'}"
      ]
     },
     "execution_count": 15,
     "metadata": {},
     "output_type": "execute_result"
    }
   ],
   "source": [
    "slice_params"
   ]
  },
  {
   "cell_type": "code",
   "execution_count": 16,
   "id": "cd83832b-7aae-439c-b512-478a1a422283",
   "metadata": {},
   "outputs": [],
   "source": [
    "slice_params['slice_metadata']['notes'] = 'Issues: ' + xl['notes_issues'] + '\\nMisc: ' + xl['notes']"
   ]
  },
  {
   "cell_type": "code",
   "execution_count": 17,
   "id": "52aa2596-a62c-44dc-ad09-91140af534a0",
   "metadata": {},
   "outputs": [],
   "source": [
    "slice_params['slice_metadata']['region'] = xl['region']"
   ]
  },
  {
   "cell_type": "code",
   "execution_count": 18,
   "id": "4e4753b3-0c33-4b06-95d0-df48eba76f59",
   "metadata": {},
   "outputs": [
    {
     "name": "stdout",
     "output_type": "stream",
     "text": [
      "slice ID: 20220413_16h31m26s\n"
     ]
    }
   ],
   "source": [
    "date = xl['date']\n",
    "time = xl['slice_time']\n",
    "\n",
    "# date = slice_params['slice_metadata']['date']\n",
    "# time = slice_params['slice_metadata']['slice_time']\n",
    "\n",
    "slice_id = date + '_' + time\n",
    "print(\"slice ID: \" + slice_id)\n",
    "\n",
    "unit_timestamps_filename = slice_id + '_units_ts.mat'\n",
    "treatments_filename = slice_id + '_treatments.csv'\n",
    "electrode_filename = slice_id + '_unit_electrode.csv'\n",
    "image_filename = slice_id + '.jpg'"
   ]
  },
  {
   "cell_type": "code",
   "execution_count": 19,
   "id": "536ac800-74db-41f5-8bd7-14e56e35be6a",
   "metadata": {},
   "outputs": [],
   "source": [
    "slice_params['slice_metadata']['type'] = xl['experiment_type']"
   ]
  },
  {
   "cell_type": "code",
   "execution_count": 20,
   "id": "fe8e78b0-5c60-48ec-b8d4-6c6b81520b27",
   "metadata": {},
   "outputs": [],
   "source": [
    "slice_params['paths']['slice'] = slice_id + '/'"
   ]
  },
  {
   "cell_type": "code",
   "execution_count": 21,
   "id": "60c1f5ca-a1d5-4be7-b70b-a1367406c8c1",
   "metadata": {},
   "outputs": [],
   "source": [
    "slice_params['paths']['unit'] = unit_timestamps_filename"
   ]
  },
  {
   "cell_type": "code",
   "execution_count": 22,
   "id": "8e99c988-6ae4-412f-9531-de358e04a25d",
   "metadata": {},
   "outputs": [],
   "source": [
    "slice_params['paths']['treatment'] = treatments_filename"
   ]
  },
  {
   "cell_type": "code",
   "execution_count": 23,
   "id": "dca1bd24-9f3e-418b-bbe2-60f0bde95d58",
   "metadata": {},
   "outputs": [],
   "source": [
    "slice_params['paths']['photo'] = image_filename"
   ]
  },
  {
   "cell_type": "code",
   "execution_count": 24,
   "id": "82e6646a-33da-4be4-be20-509860777e1d",
   "metadata": {},
   "outputs": [],
   "source": [
    "slice_params['cut_by'] = xl['cut_by']"
   ]
  },
  {
   "cell_type": "code",
   "execution_count": 25,
   "id": "83ca060f-c105-4bf6-9ee1-7c898484c039",
   "metadata": {},
   "outputs": [],
   "source": [
    "slice_params['run_by'] = xl['run_by']"
   ]
  },
  {
   "cell_type": "code",
   "execution_count": 26,
   "id": "f788c2cb-8414-413c-ab1d-ef00c6cc9b98",
   "metadata": {},
   "outputs": [
    {
     "name": "stdout",
     "output_type": "stream",
     "text": [
      "paths:\n",
      "    base: /Users/walter/Data/med64/experiment/\n",
      "    protocol: HB_139_DAMGO/\n",
      "    slice: 20220413_16h31m26s/\n",
      "    unit: 20220413_16h31m26s_units_ts.mat\n",
      "    treatment: 20220413_16h31m26s_treatments.csv\n",
      "    photo: 20220413_16h31m26s.jpg\n",
      "slice_metadata:\n",
      "    type: Dose/Response\n",
      "    protocol: HB_139_DAMGO\n",
      "    date: 2020-08-25\n",
      "    animal_id: '...'\n",
      "    region: VTA\n",
      "    recording_site: middle\n",
      "    notes: 'Issues: Chs:10,19,20,22,28,30,31,37,38,39. Maybe:12,13,21,24,25,40,48,55\n",
      "\n",
      "        Misc: Gabazine in all solutions'\n",
      "cut_by: EVD\n",
      "run_by: EVD/IC\n",
      "\n"
     ]
    }
   ],
   "source": [
    "slice_params_dump = yaml.dump(slice_params, sort_keys=False, indent=4, default_flow_style=False)\n",
    "print(slice_params_dump)"
   ]
  },
  {
   "cell_type": "markdown",
   "id": "bf7ceddf-d381-40d0-982d-9035884ded9b",
   "metadata": {},
   "source": [
    "## Add protocol name from the excel sheet tab  \n",
    "## move cut and run to slice parameter   \n",
    "## change notes:issues to channels\n",
    "## add \"*checkpoint.ipynb\" to gitignore"
   ]
  },
  {
   "cell_type": "markdown",
   "id": "3b0f7cd9-5c7a-438b-a859-7158d58d11c2",
   "metadata": {
    "tags": []
   },
   "source": [
    "#### Windows : make folder\n",
    "```\n",
    "file = [\"a.txt\",\"b.txt\"]\n",
    "remotePath = \"SFTP/SERVER/PATH\"\n",
    "os.mkdir(\"./Jars\")\n",
    "os.chdir(\"./Jars\")\n",
    "getCurrDir = os.getcwd()\n",
    "localPath = os.path.join(getCurrDir, file)\n",
    "```"
   ]
  },
  {
   "cell_type": "code",
   "execution_count": 27,
   "id": "9a6a838f-e11a-4409-9bd2-6d9d5572ccfd",
   "metadata": {},
   "outputs": [
    {
     "name": "stdout",
     "output_type": "stream",
     "text": [
      "C:\\Users\\fieldslab2\\Desktop\\Lab\\MatLab\\Python_Code\n",
      "C:\\Users\\fieldslab2\\Desktop\\Lab\\MatLab\\Python_Code\\output_parameter_folders\\20220413_16h31m26s\\slice_parameters.yaml\n"
     ]
    }
   ],
   "source": [
    "slice_dir_name = './output_parameter_folders/' + slice_id\n",
    "os.chdir(base_dir_path_str)\n",
    "print(os.getcwd())\n",
    "# make output_parameter_folders dir\n",
    "try:\n",
    "    os.mkdir('./output_parameter_folders/')\n",
    "except:\n",
    "    pass\n",
    "try:\n",
    "    os.mkdir(slice_dir_name)\n",
    "except:\n",
    "    print('FileExistsError' + ': continuing OK')\n",
    "os.chdir(slice_dir_name)\n",
    "slice_dir_path = os.getcwd()\n",
    "slice_dump_path = os.path.join(slice_dir_path, 'slice_parameters.yaml')\n",
    "print(slice_dump_path)"
   ]
  },
  {
   "cell_type": "code",
   "execution_count": 28,
   "id": "62a09ea5-725d-4479-9a3e-02055839f2a8",
   "metadata": {},
   "outputs": [],
   "source": [
    "with open(slice_dump_path, 'w', encoding = \"utf-8\") as yaml_file:\n",
    "    yaml_file.write(slice_params_dump)"
   ]
  },
  {
   "cell_type": "code",
   "execution_count": null,
   "id": "fa3bb652-4356-4baa-b4ef-bb8fec543688",
   "metadata": {},
   "outputs": [],
   "source": []
  },
  {
   "cell_type": "markdown",
   "id": "70d48611-004e-481f-939f-88ea963c2f3e",
   "metadata": {
    "tags": []
   },
   "source": [
    "## Protocol Parameters YAML"
   ]
  },
  {
   "cell_type": "code",
   "execution_count": 19,
   "id": "0bcb4a9d-660f-4c41-9722-7e9ddf72696f",
   "metadata": {
    "tags": []
   },
   "outputs": [],
   "source": [
    "with open(protocol_template_path, 'r') as file:\n",
    "    protocol_params = yaml.safe_load(file)"
   ]
  },
  {
   "cell_type": "code",
   "execution_count": 20,
   "id": "4925a05c-9df5-4e40-9432-774077f81412",
   "metadata": {},
   "outputs": [
    {
     "data": {
      "text/plain": [
       "{'protocol_metadata': {'researchers': 'Elayne Vieira Dias, Elyssa Margolis',\n",
       "  'cut_by': 'Elayne Vieira Dias',\n",
       "  'run_by': 'Elayne Vieira Dias',\n",
       "  'description': 'Apply DAMGO and other treatments. Because this description is in quotes, YAML can read it as a single long block of wrapped text, even though it is multiple lines in YAML file.\\nAdding an extra blank line inside the same block text quote will be read by YAML as a new line.\\nAttempting to add lists, or other complex grammatical structures into this kind of text block will sometimes be less readable than creating an actual structured list as data in YAML'},\n",
       " 'spike_sorting': {'method': 'matlab ez-spike'},\n",
       " 'data_cleaning': {'activity_threshold': 0.5},\n",
       " 'models': {'firing_rate_model': {'model_type': '...'},\n",
       "  'dose_response_model': {'model_type': 'sigmoid',\n",
       "   'priors': '...',\n",
       "   'inits': '...'}}}"
      ]
     },
     "execution_count": 20,
     "metadata": {},
     "output_type": "execute_result"
    }
   ],
   "source": [
    "protocol_params"
   ]
  },
  {
   "cell_type": "code",
   "execution_count": 21,
   "id": "d4b56f15-4098-4311-9316-ea144a243df5",
   "metadata": {},
   "outputs": [],
   "source": [
    "protocol_params['protocol_metadata']['researchers'] = 'Elayne Vieira Dias, Elyssa Margolis'"
   ]
  },
  {
   "cell_type": "code",
   "execution_count": 22,
   "id": "c4c24276-fea7-4ea3-b700-84a8a117d09b",
   "metadata": {},
   "outputs": [],
   "source": [
    "protocol_params['protocol_metadata']['cut_by'] = xl['cut_by']"
   ]
  },
  {
   "cell_type": "code",
   "execution_count": 23,
   "id": "7167d60f-20ea-4a17-a0c1-aac4791f47b9",
   "metadata": {},
   "outputs": [],
   "source": [
    "protocol_params['protocol_metadata']['run_by'] = xl['run_by']"
   ]
  },
  {
   "cell_type": "code",
   "execution_count": 24,
   "id": "efb92b48-1de6-4ee1-a60d-801182c17f98",
   "metadata": {},
   "outputs": [
    {
     "name": "stdout",
     "output_type": "stream",
     "text": [
      "protocol_metadata:\n",
      "    researchers: Elayne Vieira Dias, Elyssa Margolis\n",
      "    cut_by: EVD\n",
      "    run_by: EVD\n",
      "    description: 'Apply DAMGO and other treatments. Because this description is in\n",
      "        quotes, YAML can read it as a single long block of wrapped text, even though\n",
      "        it is multiple lines in YAML file.\n",
      "\n",
      "        Adding an extra blank line inside the same block text quote will be read by\n",
      "        YAML as a new line.\n",
      "\n",
      "        Attempting to add lists, or other complex grammatical structures into this\n",
      "        kind of text block will sometimes be less readable than creating an actual\n",
      "        structured list as data in YAML'\n",
      "spike_sorting:\n",
      "    method: matlab ez-spike\n",
      "data_cleaning:\n",
      "    activity_threshold: 0.5\n",
      "models:\n",
      "    firing_rate_model:\n",
      "        model_type: '...'\n",
      "    dose_response_model:\n",
      "        model_type: sigmoid\n",
      "        priors: '...'\n",
      "        inits: '...'\n",
      "\n"
     ]
    }
   ],
   "source": [
    "protocol_params_dump = yaml.dump(protocol_params, sort_keys=False, indent=4, default_flow_style=False)\n",
    "print(protocol_params_dump)"
   ]
  },
  {
   "cell_type": "code",
   "execution_count": 28,
   "id": "6e2ba9f7-88e8-45fa-b86b-c6c2469e15d5",
   "metadata": {},
   "outputs": [],
   "source": [
    "with open(protocol_dump_path, 'w', encoding = \"utf-8\") as yaml_file:\n",
    "    yaml_file.write(protocol_params_dump)"
   ]
  },
  {
   "cell_type": "code",
   "execution_count": null,
   "id": "c8860eae-d678-4894-bfd8-9281959f1ffb",
   "metadata": {},
   "outputs": [],
   "source": []
  }
 ],
 "metadata": {
  "kernelspec": {
   "display_name": "Python 3 (ipykernel)",
   "language": "python",
   "name": "python3"
  },
  "language_info": {
   "codemirror_mode": {
    "name": "ipython",
    "version": 3
   },
   "file_extension": ".py",
   "mimetype": "text/x-python",
   "name": "python",
   "nbconvert_exporter": "python",
   "pygments_lexer": "ipython3",
   "version": "3.10.4"
  }
 },
 "nbformat": 4,
 "nbformat_minor": 5
}
